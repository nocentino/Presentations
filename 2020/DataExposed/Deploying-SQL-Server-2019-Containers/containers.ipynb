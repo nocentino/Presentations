{
    "metadata": {
        "kernelspec": {
            "name": "powershell",
            "display_name": "PowerShell"
        },
        "language_info": {
            "name": "powershell",
            "codemirror_mode": "shell",
            "mimetype": "text/x-sh",
            "file_extension": ".ps1"
        }
    },
    "nbformat_minor": 2,
    "nbformat": 4,
    "cells": [
        {
            "cell_type": "markdown",
            "source": [
                "**Start up a SQL Server 2019 - CU4 Container** - Creates a running container with a Docker Volume. A Docker Volume enables you to store data independent of the lifecycle of the container."
            ],
            "metadata": {
                "azdata_cell_guid": "679a027a-15be-4f7a-ba8a-d4c73b49cd09"
            }
        },
        {
            "cell_type": "code",
            "source": [
                "docker run `\n",
                "    --name 'sql1' `\n",
                "    --env 'ACCEPT_EULA=Y' `\n",
                "    --env 'MSSQL_SA_PASSWORD=S0methingS@Str0ng!' `\n",
                "    --publish 1433:1433 `\n",
                "    --volume sqldata1:/var/opt/mssql `\n",
                "    --detach mcr.microsoft.com/mssql/server:2019-CU4-ubuntu-18.04"
            ],
            "metadata": {
                "azdata_cell_guid": "bdfdb6ab-ba23-4c35-8411-5a2add1cf22d",
                "tags": []
            },
            "outputs": [],
            "execution_count": null
        },
        {
            "cell_type": "markdown",
            "source": [
                "**List the running containers**"
            ],
            "metadata": {
                "azdata_cell_guid": "e2f1cd36-daa6-4a33-a584-b0286e72e56c"
            }
        },
        {
            "cell_type": "code",
            "source": [
                "docker ps "
            ],
            "metadata": {
                "azdata_cell_guid": "6c9795b5-c3d4-42b8-bf98-795f49731ba3",
                "tags": [
                    "hide_input"
                ]
            },
            "outputs": [],
            "execution_count": null
        },
        {
            "cell_type": "markdown",
            "source": [
                "**Run a basic query** - Note that you can connect to the container over the network on port 1433. This is the same port that is defined in the ```--publish``` parameter above"
            ],
            "metadata": {
                "azdata_cell_guid": "d0184196-c179-4f8b-93c9-ef22df56ad50"
            }
        },
        {
            "cell_type": "code",
            "source": [
                "sqlcmd -S localhost,1433 -U sa -Q 'SELECT @@VERSION' -P 'S0methingS@Str0ng!'"
            ],
            "metadata": {
                "azdata_cell_guid": "3d3a4170-f325-448f-98be-ed7e2d2375df",
                "tags": [
                    "hide_input"
                ]
            },
            "outputs": [],
            "execution_count": null
        },
        {
            "cell_type": "markdown",
            "source": [
                "**Creating a database in a container** - Then list the databases currently defined in the container."
            ],
            "metadata": {
                "azdata_cell_guid": "a5c8f171-0236-4cea-9f33-1d087ceb93dc"
            }
        },
        {
            "cell_type": "code",
            "source": [
                "sqlcmd -S localhost,1433 -U sa -Q 'CREATE DATABASE [TestDB1]' -P 'S0methingS@Str0ng!'"
            ],
            "metadata": {
                "azdata_cell_guid": "c3225cdf-683f-4d65-9807-10c2179d1720",
                "tags": []
            },
            "outputs": [],
            "execution_count": null
        },
        {
            "cell_type": "code",
            "source": [
                "sqlcmd -S localhost,1433 -U sa -Q 'SELECT name from sys.databases' -P 'S0methingS@Str0ng!'"
            ],
            "metadata": {
                "azdata_cell_guid": "af614222-32ee-44ed-97d4-a56890571865"
            },
            "outputs": [],
            "execution_count": null
        },
        {
            "cell_type": "markdown",
            "source": [
                "**Stop the current container** - Terminates the running container. You can restart the container with ```docker run sql1```"
            ],
            "metadata": {
                "azdata_cell_guid": "678b9642-0ccb-4b35-805f-bd5ec23e312d"
            }
        },
        {
            "cell_type": "code",
            "source": [
                "docker stop sql1"
            ],
            "metadata": {
                "azdata_cell_guid": "df6c8fe9-e3e9-4a6a-8f97-4cb0e6c1d057",
                "tags": [
                    "hide_input"
                ]
            },
            "outputs": [],
            "execution_count": null
        },
        {
            "cell_type": "markdown",
            "source": [
                "**Remove the container** - Removes the definition of the container. The Data Volume is an independent resource. It and the files it contains are still on the local system."
            ],
            "metadata": {
                "azdata_cell_guid": "4c907100-f387-4c85-8ad9-47c8de1cd74e"
            }
        },
        {
            "cell_type": "code",
            "source": [
                "docker rm sql1"
            ],
            "metadata": {
                "azdata_cell_guid": "4463dcb0-5c54-4c94-95e9-9be2fae45c7a",
                "tags": [
                    "hide_input"
                ]
            },
            "outputs": [],
            "execution_count": null
        },
        {
            "cell_type": "markdown",
            "source": [
                "**Upgrading a container based deployment of SQL Server** - Start a container running CU5 and use the same Data Volume as before. SQL Server will start up find the system and user databases and attach them."
            ],
            "metadata": {
                "azdata_cell_guid": "9ccf4960-3665-466e-ae23-7225493061af"
            }
        },
        {
            "cell_type": "code",
            "source": [
                "docker run `\n",
                "    --name 'sql1' `\n",
                "    --env 'ACCEPT_EULA=Y' `\n",
                "    --env 'MSSQL_SA_PASSWORD=S0methingS@Str0ng!' `\n",
                "    --publish 1433:1433 `\n",
                "    --volume sqldata1:/var/opt/mssql `\n",
                "    -d mcr.microsoft.com/mssql/server:2019-CU5-ubuntu-18.04"
            ],
            "metadata": {
                "azdata_cell_guid": "04ae5e8e-d90f-438e-aaa6-04b20f35777f",
                "tags": []
            },
            "outputs": [],
            "execution_count": null
        },
        {
            "cell_type": "markdown",
            "source": [
                "**Check the version of SQL Server** - When deploying a new version of SQL Server it will run an upgrade process which can take a short period of time to run."
            ],
            "metadata": {
                "azdata_cell_guid": "29845d23-2f3f-4317-9a46-433bc46a196c"
            }
        },
        {
            "cell_type": "code",
            "source": [
                "sqlcmd -S localhost,1433 -U sa -Q 'SELECT @@VERSION' -P 'S0methingS@Str0ng!'"
            ],
            "metadata": {
                "azdata_cell_guid": "d5cbaa18-72f6-4a8c-8446-a1193d0c1d7d",
                "tags": [
                    "hide_input"
                ]
            },
            "outputs": [],
            "execution_count": null
        },
        {
            "cell_type": "code",
            "source": [
                "sqlcmd -S localhost,1433 -U sa -Q 'SELECT name from sys.databases' -P 'S0methingS@Str0ng!'"
            ],
            "metadata": {
                "azdata_cell_guid": "98c5a18a-01a3-4864-a76c-31bebed4c994",
                "tags": [
                    "hide_input"
                ]
            },
            "outputs": [],
            "execution_count": null
        },
        {
            "cell_type": "markdown",
            "source": [
                "**Stop the running container** - This shuts down the container and has no impact on the data retention."
            ],
            "metadata": {
                "azdata_cell_guid": "519e4b29-3df8-4f7d-a2b5-56ccebdaff56"
            }
        },
        {
            "cell_type": "code",
            "source": [
                "docker stop sql1"
            ],
            "metadata": {
                "azdata_cell_guid": "6728a515-ab23-4940-80a1-d2dfdedaf082",
                "tags": [
                    "hide_input"
                ]
            },
            "outputs": [],
            "execution_count": null
        },
        {
            "cell_type": "markdown",
            "source": [
                "**Delete the container** - This deletes the container definition, but not the data. That's still an external resource in the data volume."
            ],
            "metadata": {
                "azdata_cell_guid": "56c2cf3f-f405-4b29-875c-39c0aa693cf9"
            }
        },
        {
            "cell_type": "code",
            "source": [
                "docker rm sql1"
            ],
            "metadata": {
                "azdata_cell_guid": "ca3a8668-5cbb-444d-a12a-4d62cca1717f",
                "tags": [
                    "hide_input"
                ]
            },
            "outputs": [],
            "execution_count": null
        },
        {
            "cell_type": "markdown",
            "source": [
                "**Delete the Data Volume** - This removes the actual data files from disk. "
            ],
            "metadata": {
                "azdata_cell_guid": "320f2754-9d70-4026-904a-d4001e3e7e2f"
            }
        },
        {
            "cell_type": "code",
            "source": [
                "docker volume rm sqldata1"
            ],
            "metadata": {
                "azdata_cell_guid": "8ca34acf-8118-4df5-bfb5-d426ae6fcd9e",
                "tags": [
                    "hide_input"
                ]
            },
            "outputs": [],
            "execution_count": null
        }
    ]
}